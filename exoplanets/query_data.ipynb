{
 "nbformat": 4,
 "nbformat_minor": 2,
 "metadata": {
  "language_info": {
   "name": "python",
   "codemirror_mode": {
    "name": "ipython",
    "version": 3
   },
   "version": "3.7.5"
  },
  "orig_nbformat": 2,
  "file_extension": ".py",
  "mimetype": "text/x-python",
  "name": "python",
  "npconvert_exporter": "python",
  "pygments_lexer": "ipython3",
  "version": 3
 },
 "cells": [
  {
   "cell_type": "markdown",
   "execution_count": null,
   "metadata": {},
   "outputs": [],
   "source": [
    "# Exoplanet orbits\n",
    "This notebook extracts data from the exoplanet database\n",
    "\n"
   ]
  },
  {
   "cell_type": "code",
   "execution_count": 4,
   "metadata": {},
   "outputs": [
    {
     "name": "stdout",
     "output_type": "stream",
     "text": "Software versions:\n   astroquery 0.3.10\n   pandas     0.25.3\n"
    }
   ],
   "source": [
    "# load the astroquery module\n",
    "import astropy\n",
    "import astroquery\n",
    "import pandas as pd\n",
    "\n",
    "# Print the versions of the software used:\n",
    "print('Software versions:')\n",
    "print(f'   astropy    {astropy.__version__}')\n",
    "print(f'   astroquery {astroquery.__version__}')\n",
    "print(f'   pandas     {pd.__version__}')"
   ]
  },
  {
   "cell_type": "code",
   "execution_count": null,
   "metadata": {},
   "outputs": [],
   "source": [
    "# Get the data\n",
    "from astroquery.exoplanet_orbit_database import ExoplanetOrbitDatabase\n",
    "eod_table = ExoplanetOrbitDatabase.get_confirmed_planets_table()\n"
   ]
  }
 ]
}