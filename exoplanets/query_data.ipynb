{
 "nbformat": 4,
 "nbformat_minor": 2,
 "metadata": {
  "language_info": {
   "name": "python",
   "codemirror_mode": {
    "name": "ipython",
    "version": 3
   },
   "version": "3.7.5"
  },
  "orig_nbformat": 2,
  "file_extension": ".py",
  "mimetype": "text/x-python",
  "name": "python",
  "npconvert_exporter": "python",
  "pygments_lexer": "ipython3",
  "version": 3
 },
 "cells": [
  {
   "cell_type": "markdown",
   "execution_count": null,
   "metadata": {},
   "outputs": [],
   "source": [
    "# Exoplanet orbits\n",
    "This notebook extracts data from the exoplanet database\n",
    "\n"
   ]
  },
  {
   "cell_type": "code",
   "execution_count": 19,
   "metadata": {},
   "outputs": [
    {
     "name": "stdout",
     "output_type": "stream",
     "text": "Software versions:\n   astropy    3.2.3\n   astroquery 0.3.10\n   pandas     0.25.3\nDate of retrieval: 2019-11-19\n"
    }
   ],
   "source": [
    "# load the astroquery module\n",
    "import astropy\n",
    "import astroquery\n",
    "import pandas as pd\n",
    "import datetime\n",
    "\n",
    "# Print the versions of the software used:\n",
    "print('Software versions:')\n",
    "print(f'   astropy    {astropy.__version__}')\n",
    "print(f'   astroquery {astroquery.__version__}')\n",
    "print(f'   pandas     {pd.__version__}')\n",
    "print(f'Date of data retrieval: {datetime.date.today()}')"
   ]
  },
  {
   "cell_type": "code",
   "execution_count": 24,
   "metadata": {},
   "outputs": [
    {
     "data": {
      "text/plain": "<bound method NDFrame.describe of                         pl_discmethod    pl_orbper  pl_orbeccen  pl_orbincl  \\\nNAME_LOWERCASE                                                                \nkepler-163b                   Transit     7.810937          NaN         0.0   \nkepler-163c                   Transit    21.347262          NaN         0.0   \nkepler-164b                   Transit     5.035030          NaN         0.0   \nkepler-164c                   Transit    10.945723          NaN         0.0   \nkepler-164d                   Transit    28.986769          NaN         0.0   \n...                               ...          ...          ...         ...   \nhd40956b              Radial Velocity   578.600000         0.24         0.0   \nhd111591b             Radial Velocity  1056.400000         0.26         0.0   \nhd113996b             Radial Velocity   610.200000         0.28         0.0   \nogle-2016-blg-1190lb     Microlensing  1224.000000          NaN        41.2   \nk2-181b                       Transit     6.894256          NaN         0.0   \n\n                      pl_bmassj  pl_radj  pl_dens          ra        dec  \\\nNAME_LOWERCASE                                                             \nkepler-163b                0.00    0.094      NaN  295.002819  46.987328   \nkepler-163c                0.00    0.202      NaN  295.002819  46.987328   \nkepler-164b                0.00    0.126      NaN  287.780828  47.629913   \nkepler-164c                0.00    0.244      NaN  287.780828  47.629913   \nkepler-164d                0.00    0.219      NaN  287.780828  47.629913   \n...                         ...      ...      ...         ...        ...   \nhd40956b                   2.70    0.000      NaN   91.663147  63.453838   \nhd111591b                  4.40    0.000      NaN  192.572067  22.863407   \nhd113996b                  6.30    0.000      NaN  196.794708  27.624741   \nogle-2016-blg-1190lb      13.38    0.000      NaN  269.717926 -27.613556   \nk2-181b                    0.00    0.253      NaN  127.554031  10.910294   \n\n                      st_dist                                 pl_facility  \nNAME_LOWERCASE                                                             \nkepler-163b            703.69                                      Kepler  \nkepler-163c            703.69                                      Kepler  \nkepler-164b            914.18                                      Kepler  \nkepler-164c            914.18                                      Kepler  \nkepler-164d            914.18                                      Kepler  \n...                       ...                                         ...  \nhd40956b               116.99                      Multiple Observatories  \nhd111591b              114.54                      Multiple Observatories  \nhd113996b              116.34  Bohyunsan Optical Astronomical Observatory  \nogle-2016-blg-1190lb  6770.00                                        OGLE  \nk2-181b                364.82                                          K2  \n\n[4093 rows x 11 columns]>"
     },
     "execution_count": 24,
     "metadata": {},
     "output_type": "execute_result"
    }
   ],
   "source": [
    "# Get the data as a Pandas dataframe\n",
    "from astroquery.nasa_exoplanet_archive import NasaExoplanetArchive\n",
    "exoplanets_db = NasaExoplanetArchive.get_confirmed_planets_table().to_pandas()\n",
    "\n",
    "# Extract only the columns that we really care about for this visualization.\n",
    "# A link to a list of column descriptions is in the README.md file\n",
    "exoplanets_db = exoplanets_db[['pl_discmethod', # Discovery method\n",
    "                               'pl_orbper',     # Orbital period (days)\n",
    "                               'pl_orbeccen',   # Orbital eccentricity\n",
    "                               'pl_orbincl',    # Inclination relative to line fo sight (deg)\n",
    "                               'pl_bmassj',     # Best estimate of planet mass (Jupiter masses)\n",
    "                               'pl_radj',       # Planet Radius (Jupiter radii)\n",
    "                               'pl_dens',       # Planet density (g/cm^3)\n",
    "                               'ra',            # Right ascension of planet (deg)\n",
    "                               'dec',           # Declination of planet (deg)\n",
    "                               'st_dist',       # Location of discovering instrument (Ground or Space)\n",
    "                               'pl_facility']]  # Discovery instrument name\n",
    "\n",
    "# Print some summary info\n",
    "exoplanets_db.describe"
   ]
  },
  {
   "cell_type": "code",
   "execution_count": 25,
   "metadata": {},
   "outputs": [],
   "source": [
    "# Now save the database to a csv\n",
    "exoplanets_db.to_csv('exoplanets/exoplanet_orbit_data.csv')"
   ]
  },
  {
   "cell_type": "code",
   "execution_count": null,
   "metadata": {},
   "outputs": [],
   "source": []
  }
 ]
}